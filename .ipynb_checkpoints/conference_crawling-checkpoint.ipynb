{
 "cells": [
  {
   "cell_type": "code",
   "execution_count": 1,
   "metadata": {},
   "outputs": [],
   "source": [
    "import urllib.request\n",
    "import requests\n",
    "from bs4 import BeautifulSoup"
   ]
  },
  {
   "cell_type": "code",
   "execution_count": 3,
   "metadata": {},
   "outputs": [],
   "source": [
    "url = 'http://www.yes24.com/Product/Goods/7'\n",
    "req = requests.get(url)\n",
    "req.status_code\n",
    "html = req.text\n",
    "soup = BeautifulSoup(html, \"html.parser\")\n",
    "a = soup.find(class_= 'gd_name')\n"
   ]
  },
  {
   "cell_type": "code",
   "execution_count": 2,
   "metadata": {},
   "outputs": [],
   "source": [
    "import pandas as pd\n",
    "\n",
    "pageNo = 1\n",
    "cralwed_data = []\n",
    "i = 90080001\n",
    "for i in range(i,i+10): \n",
    "    \n",
    "    pageNo = pageNo + 1\n",
    "    url = 'http://www.yes24.com/Product/Goods/{}'.format(pageNo)\n",
    "    req = requests.get(url)\n",
    "    html = req.text\n",
    "    soup = BeautifulSoup(html, \"html.parser\")\n",
    "    name = soup.find(class_=\"gd_name\")\n",
    "    story = soup.find(class_=\"infoWrap_txtInner\")\n",
    "    author = soup.find(class_=\"gd_auth\")\n",
    "    \n",
    "    if name: cralwed_data.append([name.text, story.text, author.text])\n",
    "\n",
    "data = pd.DataFrame(cralwed_data, columns =['Name', 'Story','Author'])\n",
    "data.to_csv('Book_90080001.csv',index = False, encoding='utf-8-sig')"
   ]
  },
  {
   "cell_type": "code",
   "execution_count": 3,
   "metadata": {},
   "outputs": [
    {
     "name": "stdout",
     "output_type": "stream",
     "text": [
      "(6, 3)\n"
     ]
    },
    {
     "data": {
      "text/html": [
       "<div>\n",
       "<style scoped>\n",
       "    .dataframe tbody tr th:only-of-type {\n",
       "        vertical-align: middle;\n",
       "    }\n",
       "\n",
       "    .dataframe tbody tr th {\n",
       "        vertical-align: top;\n",
       "    }\n",
       "\n",
       "    .dataframe thead th {\n",
       "        text-align: right;\n",
       "    }\n",
       "</style>\n",
       "<table border=\"1\" class=\"dataframe\">\n",
       "  <thead>\n",
       "    <tr style=\"text-align: right;\">\n",
       "      <th></th>\n",
       "      <th>Name</th>\n",
       "      <th>Story</th>\n",
       "      <th>Author</th>\n",
       "    </tr>\n",
       "  </thead>\n",
       "  <tbody>\n",
       "    <tr>\n",
       "      <th>0</th>\n",
       "      <td>기억의 상처</td>\n",
       "      <td>\\n\\r\\n성폭행 그리고 끝 내 자살이라는 방법으로 생을 마감할 수 밖에 없었던 주...</td>\n",
       "      <td>\\n노은\\n</td>\n",
       "    </tr>\n",
       "    <tr>\n",
       "      <th>1</th>\n",
       "      <td>우동 한그릇</td>\n",
       "      <td>\\n\\r\\n갈길은 아득한데 어깨 위의 짐은 무겁고, 거기에다 요즘같은 불황에 얼마나...</td>\n",
       "      <td>\\r\\n            구리 료헤이 저\\r\\n</td>\n",
       "    </tr>\n",
       "    <tr>\n",
       "      <th>2</th>\n",
       "      <td>큰 오빠 1</td>\n",
       "      <td>\\n\\r\\n물질적 풍요보다는 내 부모 형제들과 나눌 수 있는 가족애야말로 가장 근본...</td>\n",
       "      <td>\\r\\n            박정근\\r\\n</td>\n",
       "    </tr>\n",
       "    <tr>\n",
       "      <th>3</th>\n",
       "      <td>성공하는 가족들의 7가지 습관</td>\n",
       "      <td>\\n\\r\\n가정의 성공 없이는 인생과 직장의 진정한 성공도 없다. 험난한 세상에서 ...</td>\n",
       "      <td>\\n스티븐 코비 저/김경섭 역\\r\\n</td>\n",
       "    </tr>\n",
       "    <tr>\n",
       "      <th>4</th>\n",
       "      <td>주식투자, 제대로 알고하면 진짜 돈된다</td>\n",
       "      <td>\\n\\r\\n이 책은 주식시장 뛰어든 지 얼마 되지 않은 초보투자자를 주요대상으로 한...</td>\n",
       "      <td>\\r\\n            김헌\\r\\n</td>\n",
       "    </tr>\n",
       "  </tbody>\n",
       "</table>\n",
       "</div>"
      ],
      "text/plain": [
       "                    Name                                              Story  \\\n",
       "0                 기억의 상처  \\n\\r\\n성폭행 그리고 끝 내 자살이라는 방법으로 생을 마감할 수 밖에 없었던 주...   \n",
       "1                 우동 한그릇  \\n\\r\\n갈길은 아득한데 어깨 위의 짐은 무겁고, 거기에다 요즘같은 불황에 얼마나...   \n",
       "2                 큰 오빠 1  \\n\\r\\n물질적 풍요보다는 내 부모 형제들과 나눌 수 있는 가족애야말로 가장 근본...   \n",
       "3       성공하는 가족들의 7가지 습관  \\n\\r\\n가정의 성공 없이는 인생과 직장의 진정한 성공도 없다. 험난한 세상에서 ...   \n",
       "4  주식투자, 제대로 알고하면 진짜 돈된다  \\n\\r\\n이 책은 주식시장 뛰어든 지 얼마 되지 않은 초보투자자를 주요대상으로 한...   \n",
       "\n",
       "                                 Author  \n",
       "0                                \\n노은\\n  \n",
       "1  \\r\\n            구리 료헤이 저\\r\\n          \n",
       "2       \\r\\n            박정근\\r\\n          \n",
       "3          \\n스티븐 코비 저/김경섭 역\\r\\n          \n",
       "4        \\r\\n            김헌\\r\\n          "
      ]
     },
     "execution_count": 3,
     "metadata": {},
     "output_type": "execute_result"
    }
   ],
   "source": [
    "check_result = pd.read_csv('Book_90080001.csv')\n",
    "print(check_result.shape)\n",
    "check_result.head()"
   ]
  },
  {
   "cell_type": "code",
   "execution_count": null,
   "metadata": {},
   "outputs": [],
   "source": []
  }
 ],
 "metadata": {
  "kernelspec": {
   "display_name": "Python 3",
   "language": "python",
   "name": "python3"
  },
  "language_info": {
   "codemirror_mode": {
    "name": "ipython",
    "version": 3
   },
   "file_extension": ".py",
   "mimetype": "text/x-python",
   "name": "python",
   "nbconvert_exporter": "python",
   "pygments_lexer": "ipython3",
   "version": "3.7.3"
  }
 },
 "nbformat": 4,
 "nbformat_minor": 4
}
