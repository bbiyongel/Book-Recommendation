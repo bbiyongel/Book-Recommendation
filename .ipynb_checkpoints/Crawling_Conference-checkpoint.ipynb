{
 "cells": [
  {
   "cell_type": "code",
   "execution_count": 71,
   "metadata": {},
   "outputs": [
    {
     "name": "stdout",
     "output_type": "stream",
     "text": [
      "Requirement already satisfied: requests in c:\\users\\leadw\\appdata\\local\\programs\\python\\python38\\lib\\site-packages (2.23.0)\n",
      "Requirement already satisfied: idna<3,>=2.5 in c:\\users\\leadw\\appdata\\local\\programs\\python\\python38\\lib\\site-packages (from requests) (2.9)\n",
      "Requirement already satisfied: certifi>=2017.4.17 in c:\\users\\leadw\\appdata\\local\\programs\\python\\python38\\lib\\site-packages (from requests) (2020.4.5.1)\n",
      "Requirement already satisfied: urllib3!=1.25.0,!=1.25.1,<1.26,>=1.21.1 in c:\\users\\leadw\\appdata\\local\\programs\\python\\python38\\lib\\site-packages (from requests) (1.25.8)\n",
      "Requirement already satisfied: chardet<4,>=3.0.2 in c:\\users\\leadw\\appdata\\local\\programs\\python\\python38\\lib\\site-packages (from requests) (3.0.4)\n"
     ]
    },
    {
     "name": "stderr",
     "output_type": "stream",
     "text": [
      "WARNING: You are using pip version 19.3.1; however, version 20.1.1 is available.\n",
      "You should consider upgrading via the 'python -m pip install --upgrade pip' command.\n",
      "ERROR: Invalid requirement: '#beautifulsoup4'\n",
      "WARNING: You are using pip version 19.3.1; however, version 20.1.1 is available.\n",
      "You should consider upgrading via the 'python -m pip install --upgrade pip' command.\n"
     ]
    },
    {
     "name": "stdout",
     "output_type": "stream",
     "text": [
      "Requirement already satisfied: selenium in c:\\users\\leadw\\appdata\\local\\programs\\python\\python38\\lib\\site-packages (3.141.0)\n",
      "Requirement already satisfied: urllib3 in c:\\users\\leadw\\appdata\\local\\programs\\python\\python38\\lib\\site-packages (from selenium) (1.25.8)\n"
     ]
    },
    {
     "name": "stderr",
     "output_type": "stream",
     "text": [
      "WARNING: You are using pip version 19.3.1; however, version 20.1.1 is available.\n",
      "You should consider upgrading via the 'python -m pip install --upgrade pip' command.\n"
     ]
    }
   ],
   "source": [
    "!pip3 install requests\n",
    "!pip3 install bs4 #beautifulsoup4\n",
    "!pip3 install selenium"
   ]
  },
  {
   "cell_type": "code",
   "execution_count": 1,
   "metadata": {},
   "outputs": [],
   "source": [
    "import urllib.request\n",
    "import requests\n",
    "from bs4 import BeautifulSoup\n",
    "import selenium\n"
   ]
  },
  {
   "cell_type": "code",
   "execution_count": 8,
   "metadata": {},
   "outputs": [],
   "source": [
    "url = 'http://www.yes24.com/Product/Goods/7'\n",
    "req = requests.get(url)\n",
    "req.status_code\n",
    "html = req.text\n",
    "soup = BeautifulSoup(html, \"html.parser\")\n",
    "a = soup.find(class_= 'gd_name')\n"
   ]
  },
  {
   "cell_type": "code",
   "execution_count": null,
   "metadata": {},
   "outputs": [],
   "source": [
    "import pandas as pd\n",
    "\n",
    "pageNo = 1\n",
    "title = []\n",
    "for i in range(0,100000000): \n",
    "    \n",
    "    pageNo = pageNo + 1\n",
    "    url = 'http://www.yes24.com/Product/Goods/{}'.format(pageNo)\n",
    "    req = requests.get(url)\n",
    "    html = req.text\n",
    "    soup = BeautifulSoup(html, \"html.parser\")\n",
    "    name = soup.find(class_=\"gd_name\")\n",
    "    if name: title.append(name.text)\n",
    "for j in title :\n",
    "    if j: print(j)\n",
    "\n"
   ]
  },
  {
   "cell_type": "code",
   "execution_count": 11,
   "metadata": {},
   "outputs": [],
   "source": [
    "titles = pd.DataFrame(title)\n",
    "titles.to_csv(\"./titles.csv\", header = False, index = False)"
   ]
  },
  {
   "cell_type": "code",
   "execution_count": 7,
   "metadata": {},
   "outputs": [
    {
     "name": "stdout",
     "output_type": "stream",
     "text": [
      "\n",
      "\r\n",
      "성폭행 그리고 끝 내 자살이라는 방법으로 생을 마감할 수 밖에 없었던 주인공 문희, 그리고 그 불운의 씨앗인 딸 미류를 통 해 한 여자의 비극적인 사랑을 그렸다. 1979년 동양방송 개국 15주년 기념 장편소설에 당선되면서 등단한 여류작가 노은의 장편소설.                    \n",
      "\n",
      "\n",
      "\r\n",
      "갈길은 아득한데 어깨 위의 짐은 무겁고, 거기에다 요즘같은 불황에 얼마나 스산한 세상에 우리의 가슴을 데워주는 감동의 동화 한편.섣달 그믐밤, 우동집에 어린아이 둘을 데리고 들어온 여인이 머뭇머뭇 “우동 한그릇만 시켜도 되느냐”고 묻는 것으로 이 아름다운 동화는 시작한다.                    \n",
      "\n",
      "\n",
      "\r\n",
      "물질적 풍요보다는 내 부모 형제들과 나눌 수 있는 가족애야말로 가장 근본적인 진정한 사랑이다. 진실한 사랑이다. 진실되게 살아가는 한 인간의 좌절, 승리, 집념을 바탕으로 한 따뜻한 가족 소설.                    \n",
      "\n",
      "\n",
      "\r\n",
      "가정의 성공 없이는 인생과 직장의 진정한 성공도 없다. 험난한 세상에서 어떻게 내 가족을 안전하게 지킬 것인가? 전세계적으로 가장 존경받는 리더십의 권위자이자 조직 개발 컨설턴트 타임지에 의해 미국에서 가장 영향력 있는 25명 중 하나로 선정된 스티븐 코비가 제시하는 당신과 당신의 가정을 성공으로 이끌어줄 불멸의 원칙과 지침!                    \n",
      "\n",
      "\n",
      "\r\n",
      "이 책은 주식시장 뛰어든 지 얼마 되지 않은 초보투자자를 주요대상으로 한 기본서로 강연에서 한 얘기들을 체계적으로 정리하고 있다. 주식시장을 드나들면서 부딪치는 상황에 맞게 행동하는 요령을 알려주고 있으므로 기존 투자자에게도 시장상황이 이해하기 어려울 때 큰 도움이 될 것이다.                    \n",
      "\n",
      "\n",
      "\r\n",
      "이 책은 돈은 에너지이며, 우주는 에너지로 가득하다라는 내용의 성공을 위한 처세 지침서이다. 풍요로워지기, 원하는 것을 끌어오기, 돈을 흐르게 하기, 생존의 차원에서 벗어나기, 자신이 좋아하는 일을 하기, 자신을 신뢰하기, 자신의 가치를 존중하기, 돈을 누리기 등 돈으로 인한 갈등을 어떻게 해결하는지의 방법을 알려주고 있다.                     \n",
      "\n"
     ]
    }
   ],
   "source": [
    "import pandas as pd\n",
    "\n",
    "pageNo = 1\n",
    "story = []\n",
    "for i in range(0,100000000): \n",
    "    \n",
    "    pageNo = pageNo + 1\n",
    "    url = 'http://www.yes24.com/Product/Goods/{}'.format(pageNo)\n",
    "    req = requests.get(url)\n",
    "    html = req.text\n",
    "    soup = BeautifulSoup(html, \"html.parser\")\n",
    "    name = soup.find(class_=\"infoWrap_txtInner\")\n",
    "    if name: story.append(name.text)\n",
    "for j in story :\n",
    "    if j: print(j)\n",
    "        \n",
    "        \n"
   ]
  },
  {
   "cell_type": "code",
   "execution_count": null,
   "metadata": {},
   "outputs": [],
   "source": [
    "stories = pd.DataFrame(story)\n",
    "stories.to_csv(\"./stories.csv\", header = False, index = False)"
   ]
  },
  {
   "cell_type": "code",
   "execution_count": null,
   "metadata": {},
   "outputs": [],
   "source": [
    "import pandas as pd\n",
    "\n",
    "pageNo = 1\n",
    "author = []\n",
    "for i in range(0,100000000): \n",
    "    \n",
    "    pageNo = pageNo + 1\n",
    "    url = 'http://www.yes24.com/Product/Goods/{}'.format(pageNo)\n",
    "    req = requests.get(url)\n",
    "    html = req.text\n",
    "    soup = BeautifulSoup(html, \"html.parser\")\n",
    "    name = soup.find(class_=\"gd_auth\")\n",
    "    if name: author.append(name.text)\n",
    "for j in author :\n",
    "    if j: print(j)\n",
    "        "
   ]
  },
  {
   "cell_type": "code",
   "execution_count": null,
   "metadata": {},
   "outputs": [],
   "source": [
    "authors = pd.DataFrame(author)\n",
    "authors.to_csv(\"./authors.csv\", header = False, index = False)"
   ]
  }
 ],
 "metadata": {
  "kernelspec": {
   "display_name": "Python 3",
   "language": "python",
   "name": "python3"
  },
  "language_info": {
   "codemirror_mode": {
    "name": "ipython",
    "version": 3
   },
   "file_extension": ".py",
   "mimetype": "text/x-python",
   "name": "python",
   "nbconvert_exporter": "python",
   "pygments_lexer": "ipython3",
   "version": "3.7.3"
  }
 },
 "nbformat": 4,
 "nbformat_minor": 4
}
